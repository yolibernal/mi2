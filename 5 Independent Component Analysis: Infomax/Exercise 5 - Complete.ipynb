{
 "cells": [
  {
   "cell_type": "markdown",
   "metadata": {},
   "source": [
    "# Independent Component Analysis: Infomax"
   ]
  },
  {
   "cell_type": "markdown",
   "metadata": {},
   "source": [
    "## Exercise 5.1:  Initialization"
   ]
  },
  {
   "cell_type": "code",
   "execution_count": 9,
   "metadata": {},
   "outputs": [],
   "source": [
    "import numpy as np\n",
    "import numpy.linalg as linalg\n",
    "\n",
    "N = 2\n",
    "\n",
    "s1 = np.loadtxt(\"sounds/sound1.dat\")\n",
    "s2 = np.loadtxt(\"sounds/sound2.dat\")\n",
    "\n",
    "S = np.stack((s1, s2))"
   ]
  },
  {
   "cell_type": "markdown",
   "metadata": {},
   "source": [
    "Calculate random invertible mixing matrix $A$:"
   ]
  },
  {
   "cell_type": "code",
   "execution_count": 10,
   "metadata": {},
   "outputs": [],
   "source": [
    "A = np.random.rand(N, N)\n",
    "while linalg.det(A) == 0:\n",
    "    print(\"A not invertible, recreating...\")\n",
    "    A = np.random.rand(N, N)"
   ]
  },
  {
   "cell_type": "markdown",
   "metadata": {},
   "source": [
    "Mix sources $S$ using $A$:"
   ]
  },
  {
   "cell_type": "code",
   "execution_count": 11,
   "metadata": {},
   "outputs": [
    {
     "data": {
      "text/plain": [
       "(2, 18000)"
      ]
     },
     "execution_count": 11,
     "metadata": {},
     "output_type": "execute_result"
    }
   ],
   "source": [
    "X = A @ S\n",
    "X.shape"
   ]
  },
  {
   "cell_type": "markdown",
   "metadata": {},
   "source": [
    " Test if matrix calculation is correct:"
   ]
  },
  {
   "cell_type": "code",
   "execution_count": 12,
   "metadata": {},
   "outputs": [
    {
     "data": {
      "text/plain": [
       "array([ True,  True])"
      ]
     },
     "execution_count": 12,
     "metadata": {},
     "output_type": "execute_result"
    }
   ],
   "source": [
    "A @ S[:,10] == X[:,10]"
   ]
  },
  {
   "cell_type": "markdown",
   "metadata": {},
   "source": [
    "Shuffle data to remove temporal structure:"
   ]
  },
  {
   "cell_type": "code",
   "execution_count": 13,
   "metadata": {},
   "outputs": [],
   "source": [
    "X = X[:, np.random.permutation(X.shape[1])]"
   ]
  },
  {
   "cell_type": "markdown",
   "metadata": {},
   "source": [
    "Correlations between mixtures and sources:"
   ]
  },
  {
   "cell_type": "code",
   "execution_count": 14,
   "metadata": {},
   "outputs": [
    {
     "data": {
      "text/plain": [
       "array([[-0.01256866, -0.01323699],\n",
       "       [-0.0063357 , -0.00470596]])"
      ]
     },
     "execution_count": 14,
     "metadata": {},
     "output_type": "execute_result"
    }
   ],
   "source": [
    "P = np.zeros((N, N))\n",
    "for i in np.arange(N):\n",
    "    for j in np.arange(N):\n",
    "        si = S[i]\n",
    "        xj = X[j]\n",
    "        pij = (np.cov(si, xj) / (np.std(si) * np.std(xj)))[0, 1]\n",
    "        P[i, j] = pij\n",
    "        \n",
    "P"
   ]
  },
  {
   "cell_type": "markdown",
   "metadata": {},
   "source": [
    "Center mixing data:"
   ]
  },
  {
   "cell_type": "code",
   "execution_count": 10,
   "metadata": {},
   "outputs": [],
   "source": [
    "mean = X.mean(axis=1)"
   ]
  },
  {
   "cell_type": "code",
   "execution_count": 11,
   "metadata": {},
   "outputs": [],
   "source": [
    "X = X - mean[:, np.newaxis]"
   ]
  },
  {
   "cell_type": "markdown",
   "metadata": {},
   "source": [
    "Initialize unmixing matrix $W$ with random values:"
   ]
  },
  {
   "cell_type": "code",
   "execution_count": 12,
   "metadata": {},
   "outputs": [],
   "source": [
    "W = np.random.rand(N, N)"
   ]
  },
  {
   "cell_type": "markdown",
   "metadata": {},
   "source": [
    "## Exercise 5.2:  Optimization"
   ]
  },
  {
   "cell_type": "code",
   "execution_count": 39,
   "metadata": {},
   "outputs": [],
   "source": [
    "sigmoid = lambda x: 1. / (1. + np.exp(-x))"
   ]
  },
  {
   "cell_type": "markdown",
   "metadata": {},
   "source": [
    "Using *standard gradient*:"
   ]
  },
  {
   "cell_type": "code",
   "execution_count": 30,
   "metadata": {},
   "outputs": [
    {
     "name": "stdout",
     "output_type": "stream",
     "text": [
      "[[-18.0194211    7.04756099]\n",
      " [  8.3134143   -0.52306307]]\n"
     ]
    }
   ],
   "source": [
    "t = 1\n",
    "epsilon_0 = 1\n",
    "W = np.random.rand(N, N)\n",
    "for x in X.T:\n",
    "    epsilon = epsilon_0 / t\n",
    "    deltaW = epsilon * (linalg.inv(W).T + (1 - 2 * sigmoid(W @ x)).T @ x)\n",
    "    W += deltaW\n",
    "    t += 1\n",
    "print(W)"
   ]
  },
  {
   "cell_type": "markdown",
   "metadata": {},
   "source": [
    "Using *natural gradient*:"
   ]
  },
  {
   "cell_type": "code",
   "execution_count": 38,
   "metadata": {},
   "outputs": [
    {
     "name": "stderr",
     "output_type": "stream",
     "text": [
      "<ipython-input-29-1f682844f54a>:2: RuntimeWarning: overflow encountered in exp\n",
      "  return 1 / (1 + np.exp(-x, dtype=np.float128))\n"
     ]
    },
    {
     "name": "stdout",
     "output_type": "stream",
     "text": [
      "[[-291521.14350897  570204.79558805]\n",
      " [ 291521.14350897 -570204.79558805]]\n"
     ]
    }
   ],
   "source": [
    "t = 1\n",
    "epsilon_0 = 1\n",
    "W = np.random.rand(N, N).astype(np.float128)\n",
    "for x in np.tile(X, 100).T:\n",
    "    epsilon = epsilon_0 / t\n",
    "    deltaW = epsilon * ((np.identity(N) + (1 - 2 * sigmoid(W @ x)) @ (W @ x).T) @ W)\n",
    "    W += deltaW\n",
    "    t += 1\n",
    "print(W)"
   ]
  },
  {
   "cell_type": "code",
   "execution_count": 65,
   "metadata": {},
   "outputs": [
    {
     "name": "stdout",
     "output_type": "stream",
     "text": [
      "[[-13.19170434   6.12137403]\n",
      " [  1.17929495  -3.06248879]]\n"
     ]
    }
   ],
   "source": [
    "# From solution (seems to work)\n",
    "def ica_natgrad_componentwise(x_alpha, N, W):\n",
    "    dW = np.zeros_like(W)\n",
    "    for i in range(N):\n",
    "        for j in range(N):\n",
    "            wk = np.dot(W[i,:], x_alpha)\n",
    "            for ll in range(N):\n",
    "                dil = int(i == ll)\n",
    "                fpp_fp = 1. - 2. * sigmoid(wk)\n",
    "                dW[i, j] += (dil + fpp_fp * np.dot(W[ll, :], x_alpha)) * W[ll, j]\n",
    "    return dW\n",
    "\n",
    "W = np.random.rand(N, N)\n",
    "t = 1\n",
    "\n",
    "# iterate multiple times over the data\n",
    "for i in range(10):\n",
    "    for x in X.T:\n",
    "        W += (1 / t) * ica_natgrad_componentwise(x, N, W)\n",
    "        t += 1\n",
    "    \n",
    "print(W)"
   ]
  },
  {
   "cell_type": "markdown",
   "metadata": {},
   "source": [
    "Exponentially decaying learning rate:"
   ]
  },
  {
   "cell_type": "code",
   "execution_count": 59,
   "metadata": {},
   "outputs": [
    {
     "name": "stdout",
     "output_type": "stream",
     "text": [
      "0.16528235915923126\n"
     ]
    }
   ],
   "source": [
    "def learning_rate(t):\n",
    "    return np.exp(0.0001 * -t)\n",
    "\n",
    "print(learning_rate(18001))"
   ]
  },
  {
   "cell_type": "code",
   "execution_count": 119,
   "metadata": {},
   "outputs": [
    {
     "name": "stdout",
     "output_type": "stream",
     "text": [
      "[[ 25.52908685  40.15427139]\n",
      " [-36.28272283  25.54580148]]\n"
     ]
    }
   ],
   "source": [
    "t = 1\n",
    "epsilon_0 = 1\n",
    "W = np.random.rand(N, N)\n",
    "for x in X.T:\n",
    "    epsilon = learning_rate(t)\n",
    "    deltaW = epsilon * (linalg.inv(W).T + (1 - 2 * sigmoid(W @ x)).T @ x)\n",
    "    W += deltaW\n",
    "    t += 1\n",
    "print(W)"
   ]
  },
  {
   "cell_type": "code",
   "execution_count": 112,
   "metadata": {},
   "outputs": [
    {
     "name": "stderr",
     "output_type": "stream",
     "text": [
      "/home/jonas/anaconda3/lib/python3.7/site-packages/ipykernel_launcher.py:2: RuntimeWarning: overflow encountered in exp\n",
      "  \n",
      "/home/jonas/anaconda3/lib/python3.7/site-packages/ipykernel_launcher.py:5: RuntimeWarning: overflow encountered in matmul\n",
      "  \"\"\"\n",
      "/home/jonas/anaconda3/lib/python3.7/site-packages/ipykernel_launcher.py:5: RuntimeWarning: invalid value encountered in matmul\n",
      "  \"\"\"\n",
      "/home/jonas/anaconda3/lib/python3.7/site-packages/ipykernel_launcher.py:6: RuntimeWarning: invalid value encountered in add\n",
      "  \n"
     ]
    },
    {
     "name": "stdout",
     "output_type": "stream",
     "text": [
      "[[nan nan]\n",
      " [nan nan]]\n"
     ]
    }
   ],
   "source": [
    "t = 1\n",
    "W = np.random.rand(N, N)\n",
    "for x in X.T:\n",
    "    epsilon = learning_rate(t)\n",
    "    deltaW = epsilon * (np.identity(N) + (1 - 2 * sigmoid(W @ x)) @ (W @ x).T) @ W\n",
    "    W += deltaW\n",
    "    t += 1\n",
    "print(W)"
   ]
  },
  {
   "cell_type": "markdown",
   "metadata": {},
   "source": [
    "## Exercise 5.3: Results"
   ]
  },
  {
   "cell_type": "code",
   "execution_count": 122,
   "metadata": {},
   "outputs": [
    {
     "name": "stdout",
     "output_type": "stream",
     "text": [
      "[[ 25.52908685  40.15427139]\n",
      " [-36.28272283  25.54580148]]\n",
      "[[0.36247556 0.35558544]\n",
      " [0.44420594 0.43490774]]\n",
      "[[27.09043571 26.54117505]\n",
      " [-1.80400351 -1.79154101]]\n"
     ]
    }
   ],
   "source": [
    "from scipy.io import wavfile\n",
    "\n",
    "rate = s1.shape[0] // 2\n",
    "\n",
    "wavfile.write(\"s1.wav\", rate, s1)\n",
    "wavfile.write(\"s2.wav\", rate, s2)\n",
    "\n",
    "wavfile.write(\"s1_s2.wav\", rate, S.T)\n",
    "wavfile.write(\"s1_s2_mixed.wav\", rate, (A @ S).T)\n",
    "wavfile.write(\"s1_s2_mixed_permuted.wav\", rate, X.T)\n",
    "\n",
    "print(W)\n",
    "print(A)\n",
    "print(W @ A)\n",
    "wavfile.write(\"unmixed.wav\", rate, ((W @ A @ S)).T)"
   ]
  },
  {
   "cell_type": "markdown",
   "metadata": {},
   "source": [
    "Original sounds:"
   ]
  },
  {
   "cell_type": "code",
   "execution_count": 139,
   "metadata": {
    "scrolled": true
   },
   "outputs": [
    {
     "data": {
      "text/plain": [
       "[<matplotlib.lines.Line2D at 0x7f24c806f1d0>]"
      ]
     },
     "execution_count": 139,
     "metadata": {},
     "output_type": "execute_result"
    },
    {
     "data": {
      "image/png": "[encoded data removed]",
      "text/plain": [
       "<Figure size 432x288 with 1 Axes>"
      ]
     },
     "metadata": {
      "needs_background": "light"
     },
     "output_type": "display_data"
    }
   ],
   "source": [
    "import matplotlib.pyplot as plt\n",
    "\n",
    "plt.plot(np.arange(s1.shape[0]), s1, alpha=0.7)\n",
    "plt.plot(np.arange(s2.shape[0]), s2, alpha=0.7)"
   ]
  },
  {
   "cell_type": "markdown",
   "metadata": {},
   "source": [
    "Mixed sounds:"
   ]
  },
  {
   "cell_type": "code",
   "execution_count": 138,
   "metadata": {},
   "outputs": [
    {
     "data": {
      "text/plain": [
       "[<matplotlib.lines.Line2D at 0x7f24c80f4a50>]"
      ]
     },
     "execution_count": 138,
     "metadata": {},
     "output_type": "execute_result"
    },
    {
     "data": {
      "image/png": "[encoded data removed]",
      "text/plain": [
       "<Figure size 432x288 with 1 Axes>"
      ]
     },
     "metadata": {
      "needs_background": "light"
     },
     "output_type": "display_data"
    }
   ],
   "source": [
    "import matplotlib.pyplot as plt\n",
    "\n",
    "plt.plot(np.arange(s1.shape[0]), (A @ S)[0], alpha=0.7)\n",
    "plt.plot(np.arange(s2.shape[0]), (A @ S)[1], alpha=0.7)"
   ]
  },
  {
   "cell_type": "markdown",
   "metadata": {},
   "source": [
    "Unmixed sounds:"
   ]
  },
  {
   "cell_type": "code",
   "execution_count": 66,
   "metadata": {},
   "outputs": [
    {
     "data": {
      "text/plain": [
       "[<matplotlib.lines.Line2D at 0x7f3fce23b280>]"
      ]
     },
     "execution_count": 66,
     "metadata": {},
     "output_type": "execute_result"
    },
    {
     "data": {
      "image/png": "[encoded data removed]",
      "text/plain": [
       "<Figure size 432x288 with 1 Axes>"
      ]
     },
     "metadata": {
      "needs_background": "light"
     },
     "output_type": "display_data"
    }
   ],
   "source": [
    "import matplotlib.pyplot as plt\n",
    "\n",
    "X_orig = A @ S\n",
    "\n",
    "plt.plot(np.arange(s1.shape[0]), (W @ X_orig)[0], alpha=0.7)"
   ]
  },
  {
   "cell_type": "code",
   "execution_count": 67,
   "metadata": {},
   "outputs": [
    {
     "data": {
      "text/plain": [
       "[<matplotlib.lines.Line2D at 0x7f3fce208580>]"
      ]
     },
     "execution_count": 67,
     "metadata": {},
     "output_type": "execute_result"
    },
    {
     "data": {
      "image/png": "[encoded data removed]",
      "text/plain": [
       "<Figure size 432x288 with 1 Axes>"
      ]
     },
     "metadata": {
      "needs_background": "light"
     },
     "output_type": "display_data"
    }
   ],
   "source": [
    "plt.plot(np.arange(s2.shape[0]), (W @ X_orig)[1], alpha=0.7)"
   ]
  }
 ],
 "metadata": {
  "kernelspec": {
   "display_name": "Python 3",
   "language": "python",
   "name": "python3"
  },
  "language_info": {
   "codemirror_mode": {
    "name": "ipython",
    "version": 3
   },
   "file_extension": ".py",
   "mimetype": "text/x-python",
   "name": "python",
   "nbconvert_exporter": "python",
   "pygments_lexer": "ipython3",
   "version": "3.8.2"
  }
 },
 "nbformat": 4,
 "nbformat_minor": 4
}
