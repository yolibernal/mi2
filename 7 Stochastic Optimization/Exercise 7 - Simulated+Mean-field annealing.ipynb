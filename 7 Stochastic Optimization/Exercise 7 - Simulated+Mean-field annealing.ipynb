{
 "cells": [
  {
   "cell_type": "markdown",
   "metadata": {},
   "source": [
    "# Simulated annealing"
   ]
  },
  {
   "cell_type": "markdown",
   "metadata": {},
   "source": [
    "## Cost function"
   ]
  },
  {
   "cell_type": "code",
   "execution_count": 381,
   "metadata": {},
   "outputs": [],
   "source": [
    "def E_sum(s, W):\n",
    "    sum = 0\n",
    "    N = len(s)\n",
    "    for i in np.arange(N):\n",
    "        for j in np.arange(N):\n",
    "            sum += W[i, j] * s[i] * s[j]\n",
    "    return -0.5 * sum"
   ]
  },
  {
   "cell_type": "code",
   "execution_count": 382,
   "metadata": {},
   "outputs": [],
   "source": [
    "# Vectorized form of cost function on sheet\n",
    "def E(s, W):\n",
    "    return -0.5 * s @ W @ s.T"
   ]
  },
  {
   "cell_type": "markdown",
   "metadata": {},
   "source": [
    "Confirm that vectorized version is correct:"
   ]
  },
  {
   "cell_type": "code",
   "execution_count": 383,
   "metadata": {},
   "outputs": [
    {
     "data": {
      "text/plain": [
       "True"
      ]
     },
     "execution_count": 383,
     "metadata": {},
     "output_type": "execute_result"
    }
   ],
   "source": [
    "np.allclose(E_sum(s, W), E(s, W))"
   ]
  },
  {
   "cell_type": "markdown",
   "metadata": {},
   "source": [
    "Cost function for single node:"
   ]
  },
  {
   "cell_type": "code",
   "execution_count": 384,
   "metadata": {},
   "outputs": [],
   "source": [
    "def E_si_sum(s, i, W):\n",
    "    sum = 0\n",
    "    N = len(s)\n",
    "    for j in np.arange(N):\n",
    "        sum += W[i, j] * s[i] * s[j]\n",
    "    return -0.5 * sum"
   ]
  },
  {
   "cell_type": "code",
   "execution_count": 385,
   "metadata": {},
   "outputs": [],
   "source": [
    "def E_si(s, i, W):\n",
    "    return -0.5 * s[i] * (W[i] @ s)"
   ]
  },
  {
   "cell_type": "markdown",
   "metadata": {},
   "source": [
    "Confirm that vectorized version is correct:"
   ]
  },
  {
   "cell_type": "code",
   "execution_count": 386,
   "metadata": {},
   "outputs": [
    {
     "data": {
      "text/plain": [
       "True"
      ]
     },
     "execution_count": 386,
     "metadata": {},
     "output_type": "execute_result"
    }
   ],
   "source": [
    "np.allclose(E_si_sum(s, 2, W), E_si(s, 2, W))"
   ]
  },
  {
   "cell_type": "code",
   "execution_count": 387,
   "metadata": {},
   "outputs": [
    {
     "name": "stdout",
     "output_type": "stream",
     "text": [
      "For small delta_E high probability to switch:\n",
      "0.5523079095743253\n",
      "0.9820137900379085\n",
      "\n",
      "For large delta_E low probability to switch:\n",
      "0.37168381170463377\n",
      "4.5397868702434395e-05\n"
     ]
    }
   ],
   "source": [
    "def P_switch(delta_E, beta):\n",
    "    return 1 / (1 + np.exp(beta * delta_E))\n",
    "\n",
    "print(\"For small delta_E high probability to switch:\")\n",
    "print(P_switch(-0.2, 1.05))\n",
    "print(P_switch(-0.2, 20))\n",
    "\n",
    "print()\n",
    "\n",
    "print(\"For large delta_E low probability to switch:\")\n",
    "print(P_switch(0.5, 1.05))\n",
    "print(P_switch(0.5, 20))"
   ]
  },
  {
   "cell_type": "markdown",
   "metadata": {},
   "source": [
    "## Initialization of s and W"
   ]
  },
  {
   "cell_type": "code",
   "execution_count": 388,
   "metadata": {},
   "outputs": [
    {
     "data": {
      "text/plain": [
       "array([-1, -1, -1, -1, -1,  1])"
      ]
     },
     "execution_count": 388,
     "metadata": {},
     "output_type": "execute_result"
    }
   ],
   "source": [
    "import numpy as np\n",
    "\n",
    "def initialize_nodes_rand(N):\n",
    "    s = np.random.choice([-1, 1], N)\n",
    "    return s\n",
    "\n",
    "s = initialize_nodes_rand(N)\n",
    "s"
   ]
  },
  {
   "cell_type": "code",
   "execution_count": 389,
   "metadata": {},
   "outputs": [
    {
     "data": {
      "text/plain": [
       "array([[ 0.        ,  0.1335827 ,  0.02690122,  0.31395541,  0.17142208,\n",
       "        -0.57350028],\n",
       "       [ 0.1335827 ,  0.        , -0.46887784,  0.05324696,  0.18733603,\n",
       "         0.46106917],\n",
       "       [ 0.02690122, -0.46887784,  0.        ,  0.77820739,  0.45022296,\n",
       "        -0.54951613],\n",
       "       [ 0.31395541,  0.05324696,  0.77820739,  0.        ,  0.12082692,\n",
       "         0.29785174],\n",
       "       [ 0.17142208,  0.18733603,  0.45022296,  0.12082692,  0.        ,\n",
       "         0.1915702 ],\n",
       "       [-0.57350028,  0.46106917, -0.54951613,  0.29785174,  0.1915702 ,\n",
       "         0.        ]])"
      ]
     },
     "execution_count": 389,
     "metadata": {},
     "output_type": "execute_result"
    }
   ],
   "source": [
    "def initialize_weights_rand(N):\n",
    "    W = np.random.uniform(-1, 1, (N, N))\n",
    "    # make W symmetric\n",
    "    W = (W + W.T) / 2\n",
    "    np.fill_diagonal(W, 0)\n",
    "    return W\n",
    "\n",
    "W = initialize_weights_rand(N)\n",
    "W"
   ]
  },
  {
   "cell_type": "code",
   "execution_count": 390,
   "metadata": {},
   "outputs": [],
   "source": [
    "W = initialize_weights_rand(N)"
   ]
  },
  {
   "cell_type": "markdown",
   "metadata": {},
   "source": [
    "## Optimization"
   ]
  },
  {
   "cell_type": "code",
   "execution_count": 391,
   "metadata": {},
   "outputs": [],
   "source": [
    "beta0 = 1.01\n",
    "tau = 1.02\n",
    "t_max = 150\n",
    "M_small = 1\n",
    "M_large = 20"
   ]
  },
  {
   "cell_type": "code",
   "execution_count": 392,
   "metadata": {},
   "outputs": [
    {
     "name": "stdout",
     "output_type": "stream",
     "text": [
      "s: [-1 -1 -1 -1 -1 -1]\n",
      "W: [[ 0.         -0.62182073  0.07142142 -0.00429681 -0.34242211  0.33390618]\n",
      " [-0.62182073  0.         -0.41177879  0.15707106  0.07052448 -0.2453142 ]\n",
      " [ 0.07142142 -0.41177879  0.          0.09853543  0.42473812  0.10990625]\n",
      " [-0.00429681  0.15707106  0.09853543  0.         -0.7011961   0.1159225 ]\n",
      " [-0.34242211  0.07052448  0.42473812 -0.7011961   0.         -0.14961432]\n",
      " [ 0.33390618 -0.2453142   0.10990625  0.1159225  -0.14961432  0.        ]]\n"
     ]
    }
   ],
   "source": [
    "s = initialize_nodes_rand(N)\n",
    "\n",
    "print(\"s:\", s)\n",
    "print(\"W:\", W)"
   ]
  },
  {
   "cell_type": "code",
   "execution_count": 393,
   "metadata": {},
   "outputs": [],
   "source": [
    "def optimize(s, M):\n",
    "    s = s.copy()\n",
    "    beta = beta0\n",
    "    N = len(s)\n",
    "    temps = []\n",
    "    energies = []\n",
    "    for t in np.arange(t_max):\n",
    "        temps.append(1 / beta)\n",
    "        energies.append(E(s=s, W=W))\n",
    "        for m in np.arange(M):\n",
    "            i = np.random.choice(N)\n",
    "            delta_E = -2 * E_si(s=s, i=i, W=W)\n",
    "            flip_prob = P_switch(delta_E=delta_E, beta=beta)\n",
    "            if np.random.rand() < flip_prob:\n",
    "                s[i] *= -1\n",
    "        beta *= tau\n",
    "    return s, temps, energies"
   ]
  },
  {
   "cell_type": "code",
   "execution_count": 394,
   "metadata": {},
   "outputs": [
    {
     "data": {
      "image/png": "[encoded data removed]",
      "text/plain": [
       "<Figure size 1080x360 with 2 Axes>"
      ]
     },
     "metadata": {
      "needs_background": "light"
     },
     "output_type": "display_data"
    }
   ],
   "source": [
    "import matplotlib.pyplot as plt\n",
    "\n",
    "fig, axes = plt.subplots(figsize=(15, 5), nrows=2)\n",
    "for M in [M_small, M_large]:\n",
    "    s_optimized, temps, energies = optimize(s, M)\n",
    "    ax = axes[0]\n",
    "    ax.plot(np.arange(len(energies)), energies)\n",
    "    ax.set_xlabel(\"Iteration\")\n",
    "    ax.set_ylabel(\"Energie\")\n",
    "    \n",
    "    ax = axes[1]\n",
    "    ax.plot(np.arange(len(temps)), temps)"
   ]
  },
  {
   "cell_type": "markdown",
   "metadata": {},
   "source": [
    "## Visualize state energy value"
   ]
  },
  {
   "cell_type": "code",
   "execution_count": 395,
   "metadata": {},
   "outputs": [],
   "source": [
    "def state_to_bullet_string(s):\n",
    "    bullets = [\"•\" if node == 1 else \"◦\" for node in s]\n",
    "    return \"\".join(bullets)"
   ]
  },
  {
   "cell_type": "code",
   "execution_count": 396,
   "metadata": {},
   "outputs": [],
   "source": [
    "possible_states = np.array(\n",
    "    [[-1 if n == \"0\" else 1 for n in list(format(i, 'b').zfill(N))] for i in np.arange(2**N)]\n",
    ")"
   ]
  },
  {
   "cell_type": "code",
   "execution_count": 397,
   "metadata": {},
   "outputs": [
    {
     "data": {
      "image/png": "[encoded data removed]",
      "text/plain": [
       "<Figure size 1080x360 with 1 Axes>"
      ]
     },
     "metadata": {
      "needs_background": "light"
     },
     "output_type": "display_data"
    }
   ],
   "source": [
    "fig, ax = plt.subplots(figsize=(15, 5))\n",
    "plt.margins(0)\n",
    "\n",
    "x = np.arange(2**6)\n",
    "possible_states_energy = [E(s, W) for s in possible_states]\n",
    "\n",
    "possible_states_labels = [state_to_bullet_string(s) for s in possible_states]\n",
    "\n",
    "ax.bar(x, possible_states_energy)\n",
    "ax.set_xticks(x)\n",
    "ax.set_xticklabels(possible_states_labels)\n",
    "ax.xaxis.set_tick_params(rotation=90)"
   ]
  },
  {
   "cell_type": "markdown",
   "metadata": {},
   "source": [
    "## Plot probabilities for states"
   ]
  },
  {
   "cell_type": "code",
   "execution_count": 398,
   "metadata": {},
   "outputs": [],
   "source": [
    "def Z(possible_states, beta, W=W):\n",
    "    return sum([np.exp(-beta * E(s, W)) for s in possible_states])\n",
    "\n",
    "def P(s, beta, Z, W=W):\n",
    "    return (1/Z) * np.exp(-beta * E(s, W))"
   ]
  },
  {
   "cell_type": "code",
   "execution_count": 399,
   "metadata": {},
   "outputs": [
    {
     "data": {
      "image/png": "[encoded data removed]",
      "text/plain": [
       "<Figure size 1080x360 with 5 Axes>"
      ]
     },
     "metadata": {
      "needs_background": "light"
     },
     "output_type": "display_data"
    }
   ],
   "source": [
    "betas = [0.02, 0.2, 0.5, 1, 5]\n",
    "\n",
    "fig, axes = plt.subplots(nrows=len(betas), figsize=(15, 5))\n",
    "plt.margins(0)\n",
    "\n",
    "def plot_probabilities_for_beta(ax, beta):\n",
    "    x = np.arange(2**6)\n",
    "    current_Z = Z(possible_states, beta, W)\n",
    "    possible_states_probabilities = [P(s, beta, current_Z, W) for s in possible_states]\n",
    "\n",
    "    possible_states_labels = [state_to_bullet_string(s) for s in possible_states]\n",
    "\n",
    "    ax.bar(x, possible_states_probabilities)\n",
    "    ax.set_xticks(x)\n",
    "    ax.set_xticklabels(possible_states_labels)\n",
    "    ax.xaxis.set_tick_params(rotation=90)\n",
    "    \n",
    "for i, beta in zip(np.arange(len(betas)), betas):\n",
    "    plot_probabilities_for_beta(axes[i], beta)"
   ]
  },
  {
   "cell_type": "markdown",
   "metadata": {},
   "source": [
    "# Mean-field annealing"
   ]
  },
  {
   "cell_type": "code",
   "execution_count": 412,
   "metadata": {},
   "outputs": [
    {
     "name": "stdout",
     "output_type": "stream",
     "text": [
      "s: [0.82167713 0.1303849  0.22091925 0.86820272 0.42941459 0.79781692]\n"
     ]
    }
   ],
   "source": [
    "beta0 = 1.05\n",
    "tau = 1.05\n",
    "t_max = 300\n",
    "epsilon = 0.01\n",
    "\n",
    "s = np.random.rand(6)\n",
    "print(\"s:\", s)\n",
    "\n",
    "def optimize_by_mean_field(s, M):\n",
    "    s = s.copy()\n",
    "    beta = beta0\n",
    "    temps = []\n",
    "    energies = []\n",
    "    e = np.full(N, np.inf)\n",
    "    \n",
    "    for t in np.arange(t_max):\n",
    "        delta_e = math.inf\n",
    "        temps.append(1 / beta)\n",
    "        energies.append(E(s=s, W=W))\n",
    "\n",
    "        while delta_e > epsilon:\n",
    "            e_old = e.copy()\n",
    "            for i in np.arange(N):\n",
    "                e[i] = -sum([W[i, j] * s[j] for j in np.arange(N)])\n",
    "                s[i] = np.tanh(-beta * e[i])\n",
    "            delta_e = np.absolute(e - e_old).all()\n",
    "        beta *= tau\n",
    "    return s, temps, energies"
   ]
  },
  {
   "cell_type": "code",
   "execution_count": 413,
   "metadata": {},
   "outputs": [
    {
     "data": {
      "text/plain": [
       "[<matplotlib.lines.Line2D at 0x7f9706fa68d0>]"
      ]
     },
     "execution_count": 413,
     "metadata": {},
     "output_type": "execute_result"
    },
    {
     "data": {
      "image/png": "[encoded data removed]",
      "text/plain": [
       "<Figure size 1080x360 with 2 Axes>"
      ]
     },
     "metadata": {
      "needs_background": "light"
     },
     "output_type": "display_data"
    }
   ],
   "source": [
    "s_optimized, temps, energies = optimize_by_mean_field(s, M)\n",
    "\n",
    "fig, axes = plt.subplots(figsize=(15, 5), nrows=2)\n",
    "\n",
    "ax = axes[0]\n",
    "ax.plot(np.arange(len(energies)), energies)\n",
    "ax.set_xlabel(\"Iteration\")\n",
    "ax.set_ylabel(\"Energie\")\n",
    "\n",
    "ax = axes[1]\n",
    "ax.plot(np.arange(len(temps)), temps)"
   ]
  }
 ],
 "metadata": {
  "kernelspec": {
   "display_name": "Python 3",
   "language": "python",
   "name": "python3"
  },
  "language_info": {
   "codemirror_mode": {
    "name": "ipython",
    "version": 3
   },
   "file_extension": ".py",
   "mimetype": "text/x-python",
   "name": "python",
   "nbconvert_exporter": "python",
   "pygments_lexer": "ipython3",
   "version": "3.7.6"
  }
 },
 "nbformat": 4,
 "nbformat_minor": 4
}
