{
 "cells": [
  {
   "cell_type": "markdown",
   "metadata": {},
   "source": [
    "# K-means Clustering"
   ]
  },
  {
   "cell_type": "code",
   "execution_count": 1,
   "metadata": {},
   "outputs": [],
   "source": [
    "import os\n",
    "import sys\n",
    "module_path = os.path.abspath(os.path.join('..'))\n",
    "if module_path not in sys.path:\n",
    "    sys.path.append(module_path)"
   ]
  },
  {
   "cell_type": "code",
   "execution_count": 2,
   "metadata": {},
   "outputs": [],
   "source": [
    "import numpy as np"
   ]
  },
  {
   "cell_type": "markdown",
   "metadata": {},
   "source": [
    "## Batch version"
   ]
  },
  {
   "cell_type": "code",
   "execution_count": 3,
   "metadata": {},
   "outputs": [
    {
     "data": {
      "text/plain": [
       "array([[ 2.195194,  0.652289,  1.029164, -1.095304,  1.97286 , -0.887429,\n",
       "         2.088042, -2.589351, -2.300691, -0.827774, -1.317564,  1.471342,\n",
       "         0.918325, -0.719561,  2.334556, -0.660512,  1.333535, -1.691402,\n",
       "         0.829857, -0.762891, -1.911958,  1.13851 , -1.190476, -0.665444,\n",
       "        -0.484931, -1.719561,  1.919842, -0.789357,  1.039614, -1.738792,\n",
       "         1.084405, -1.439062, -1.300691, -1.589351, -1.992342,  1.773761,\n",
       "        -2.092596, -1.972662, -1.52992 , -0.126445,  2.267281, -1.170143,\n",
       "         1.112571, -1.188092,  1.013987,  1.403012,  1.027338, -2.0887  ,\n",
       "        -1.714338, -2.030594, -0.579394, -0.931202, -2.188092, -2.464858,\n",
       "        -0.691402, -1.441815, -1.660512, -2.081566,  1.848275, -1.395959,\n",
       "        -1.751433, -2.095304, -0.93435 ,  1.334556, -1.226239, -1.081566,\n",
       "        -2.246265,  1.682436, -1.097373, -1.533405,  1.866744, -2.408764,\n",
       "        -0.693134,  2.459381,  1.9113  , -1.463061, -1.852043,  2.147957,\n",
       "        -0.993156,  0.9113  , -1.361469, -2.317876, -0.970836,  2.048943,\n",
       "         1.035813, -1.911129,  0.682124,  0.821631, -2.020754, -1.02714 ,\n",
       "        -1.243802, -1.37376 ,  1.998685,  0.866744, -2.347711, -2.136822,\n",
       "         1.466595, -0.911129,  1.811908, -1.020754, -1.964187,  2.068798,\n",
       "         1.957136, -2.226239,  1.560938,  0.902627,  0.702381,  1.459381,\n",
       "         2.083185, -1.933314, -1.037848,  1.996284, -1.827774,  0.848275,\n",
       "        -2.030867,  1.829857,  0.585413, -1.092596, -2.039394, -2.097373,\n",
       "         2.306866, -0.89437 , -1.687726, -2.269668, -1.615799,  0.738501,\n",
       "        -0.533405,  0.962153, -2.243802,  2.341107, -1.951057,  0.363901,\n",
       "        -0.540619,  1.863178,  1.312274, -2.081675, -1.001315, -1.540619,\n",
       "         2.251059,  2.256027,  2.558185, -0.989528,  0.777103,  0.907404,\n",
       "        -0.834633, -1.176915,  1.902627, -2.235449,  2.097661,  0.74007 ,\n",
       "        -0.960386, -0.915595,  1.095324, -1.422005, -2.361469,  1.10563 ,\n",
       "         1.261208, -2.080158,  2.092416,  1.114841, -2.151726, -2.529618,\n",
       "        -0.714338,  1.652289,  1.063182, -1.89437 ,  0.536939,  1.794647,\n",
       "        -2.106355, -0.658893,  0.599172,  2.10563 , -2.400829, -2.176915,\n",
       "         0.682436, -1.748941,  2.285662, -0.911958, -1.658893,  2.035813,\n",
       "        -2.615799,  2.084405,  2.198592,  1.756198,  0.960606, -2.15321 ,\n",
       "         0.600916, -1.801408,  2.112571, -0.901095,  0.969133,  1.088871,\n",
       "         1.515069,  1.738501,  2.027338,  2.066686,  1.306866,  0.577995,\n",
       "         2.13851 , -1.25993 ,  1.583019,  1.969406,  2.873555, -1.970836,\n",
       "        -1.081675,  0.62624 , -1.743973,  0.97286 ,  1.237109, -0.429986,\n",
       "         0.471342,  1.010472, -0.885159, -2.001315, -2.266557,  0.726941,\n",
       "         0.811908, -0.852043, -1.400828, -1.030594, -0.933314,  0.384201,\n",
       "         1.809524,  2.171962,  2.237109,  1.088042,  1.599172,  1.154653,\n",
       "        -1.86149 ,  0.969406, -1.907584,  2.063182,  1.702381,  1.420606,\n",
       "         2.13722 ,  1.195194, -1.993156,  1.092416,  0.957136,  0.410649,\n",
       "        -0.904676,  1.198592,  2.010472,  2.165367, -1.080158,  1.918434,\n",
       "        -1.762891, -1.222897, -2.042864,  2.339488,  0.756198, -1.931202,\n",
       "         1.777103,  2.06565 , -1.414587,  2.039614, -0.738792, -1.728462,\n",
       "        -1.126445,  2.088871,  0.863178, -2.075283,  1.267281, -0.964187,\n",
       "         1.185716,  1.363901, -1.93435 , -2.297619,  1.904696, -0.916815,\n",
       "         0.470382,  0.998685, -2.439062, -2.817627, -1.030867,  2.570014,\n",
       "        -0.86278 ,  1.726941, -1.936818, -2.205353,  0.327779, -2.190476,\n",
       "        -0.902339,  1.960606, -1.133256, -1.0887  , -1.408764,  0.733443,\n",
       "         0.996284, -1.636099, -1.901095,  1.570014, -1.205353,  2.420606,\n",
       "         1.248567,  2.271538,  1.13722 ,  2.013988,  0.333535, -0.814284,\n",
       "        -2.178369,  2.386328, -0.395959,  0.403012, -1.86278 , -1.528658,\n",
       "        -1.989528,  0.918434,  1.147957,  2.007658,  1.410649,  1.699309,\n",
       "        -1.845347, -0.732719,  1.06565 ,  0.979246,  1.730332,  1.327779,\n",
       "         1.386328, -1.887429,  2.248567, -2.037848, -2.672221,  0.794647,\n",
       "         1.098905,  1.823085,  0.904696, -1.246265,  1.585413, -2.528658,\n",
       "        -2.416981,  0.591236, -1.665444,  0.84679 ,  1.74007 ,  1.753735,\n",
       "        -1.902339, -0.748941,  2.154653,  2.210643,  1.918325,  1.384201,\n",
       "        -2.02714 , -1.178369,  2.029164, -2.422005, -1.003716, -0.52992 ,\n",
       "        -0.728462,  2.098905,  1.969133, -1.317876,  1.256027,  1.924717,\n",
       "        -0.972662,  2.172226, -1.235449,  1.341107, -1.672221,  1.873555,\n",
       "         1.171963, -2.399084,  2.312274, -1.834633,  0.590243, -1.693134,\n",
       "        -1.15321 ,  2.47008 , -2.37376 ,  1.84679 ,  1.285662,  2.466595,\n",
       "        -1.814284, -0.801408, -0.845347, -1.613672, -0.743973, -2.414587,\n",
       "         0.535142,  1.536939, -1.62586 , -1.986013,  1.470382, -2.261499,\n",
       "        -2.170143,  2.261208, -1.960386, -1.136822, -1.828037, -1.261499,\n",
       "         1.068798,  1.007658,  2.114841,  2.280438, -1.916815,  1.048943,\n",
       "         1.682124,  2.006844, -2.25993 , -0.828037,  0.699309, -1.804806,\n",
       "        -1.273059, -2.666465,  2.515069,  0.919842,  1.558185, -1.269668,\n",
       "         0.560938,  1.47008 ,  0.583019,  1.733443, -0.804806,  1.764551,\n",
       "         1.535142, -2.003716,  1.271538,  1.37414 , -0.751433,  1.083185,\n",
       "        -1.266557,  1.172226,  0.182372, -1.151725, -0.613672,  1.962152,\n",
       "        -1.409757,  0.809524,  1.590243, -0.951057,  0.823085,  0.764551,\n",
       "         2.37414 ,  1.280439,  1.577995,  1.979246, -1.596988, -1.429986,\n",
       "        -2.636098,  2.095324, -2.317564,  1.165367, -1.904676, -2.463061,\n",
       "        -1.075283, -1.885159,  1.907404, -1.347711,  1.591236, -1.039394,\n",
       "         1.604041, -1.042864, -0.992342,  1.308598,  1.251059,  1.006844,\n",
       "        -0.687726, -0.441815, -2.273058, -0.907584,  1.182372, -2.222897,\n",
       "         0.638531,  1.210643,  1.821631,  2.185716, -1.484931,  0.773761,\n",
       "        -1.416981, -0.62586 , -2.133256,  2.308598,  0.893645,  1.62624 ,\n",
       "         1.638531, -1.297619, -2.409757, -0.986013,  0.924717, -1.464858,\n",
       "        -1.106355, -0.936818,  1.066686,  1.339488,  1.097661, -1.915595,\n",
       "        -1.579394,  1.600916, -1.789357,  0.753735, -1.399084, -1.732719,\n",
       "         0.730332, -2.596988,  1.893645, -1.817628, -1.529618, -1.666465,\n",
       "         2.604041, -0.86149 ],\n",
       "       [ 0.119758, -0.565997, -0.078276, -0.777123,  0.830741, -0.231016,\n",
       "         0.099301,  0.584808,  0.601957, -1.156061, -0.923751,  0.715612,\n",
       "        -0.159699,  0.024388,  0.707766, -0.588341,  0.191855,  0.809231,\n",
       "        -0.782523, -0.949856,  0.099301, -0.430005, -0.407753, -0.292234,\n",
       "        -0.148608,  1.024388,  0.160395, -0.13086 ,  0.019902, -0.036918,\n",
       "         0.117627, -0.644438, -0.398043, -0.415192,  0.687443,  0.728599,\n",
       "         0.936656,  0.40954 ,  0.344498, -0.494411,  0.396119, -0.782523,\n",
       "        -0.231016, -0.574369, -0.341895,  0.22762 , -0.59046 ,  0.212453,\n",
       "         0.587076,  0.69973 , -0.301592, -0.738952,  0.425631,  0.443252,\n",
       "        -0.190769,  0.455369,  0.411659,  0.82581 ,  0.213765,  0.537173,\n",
       "         0.646553,  0.222877, -0.550077, -0.292234, -0.271401, -0.17419 ,\n",
       "         0.434794,  0.076249, -0.632641,  0.655513, -0.273605,  0.763385,\n",
       "        -0.563982,  1.360522,  0.212453, -0.671027,  0.279054,  0.279054,\n",
       "        -0.721609, -0.787547, -0.391264,  1.092186, -0.078276,  0.905391,\n",
       "         0.017259,  0.737628,  0.092186, -0.206375,  0.613908, -0.169259,\n",
       "        -0.358941, -0.264571,  1.083201, -1.273605,  0.434002,  0.606147,\n",
       "        -0.344487, -0.262372,  0.425631, -0.386092,  1.017259,  0.261048,\n",
       "         0.184376,  0.728599,  0.355562, -0.632641, -0.410965,  0.360522,\n",
       "         0.598508, -0.282117,  0.55952 ,  0.520519, -0.156061, -0.786235,\n",
       "         0.163314,  0.217477, -0.76153 , -0.063345,  0.563861,  0.367359,\n",
       "         0.436018, -0.53948 ,  0.643956,  0.655007, -0.469381,  0.01479 ,\n",
       "        -0.344487,  0.55952 ,  0.641059,  0.34948 ,  0.905391, -0.495887,\n",
       "         0.360522,  0.606147, -0.356044,  0.840301,  0.083201,  1.360522,\n",
       "         0.528927,  0.63653 ,  0.455369, -0.565215, -0.885739, -0.063345,\n",
       "        -0.50803 , -0.531421,  0.367359,  0.963054, -0.135408, -0.384672,\n",
       "         0.019902,  0.117627, -0.903811, -0.540416,  0.608736, -0.53948 ,\n",
       "        -1.036918,  0.160395,  0.292204, -1.006025,  0.213765,  0.498235,\n",
       "        -0.412924,  0.434002, -0.995161,  0.46052 , -0.671027,  0.508384,\n",
       "         0.395141, -0.65052 , -0.513877,  0.46052 ,  0.486123,  0.468579,\n",
       "        -0.923751,  0.528927,  0.587076, -0.900699,  0.34948 ,  1.017259,\n",
       "         0.530619,  1.117627,  0.570089,  0.641059, -0.436139,  0.275567,\n",
       "        -0.801777,  0.570089,  0.768984, -0.439025, -0.836686, -0.262372,\n",
       "        -0.148608,  1.01479 ,  0.40954 , -0.282117, -0.563982, -0.540416,\n",
       "         0.569995, -0.384672,  1.163849,  0.69973 ,  0.505589,  0.921724,\n",
       "        -0.159699, -0.264571,  0.63653 , -0.169259, -0.949856, -0.238775,\n",
       "        -0.284388, -0.565215, -1.006025,  1.083201,  0.3193  , -0.734159,\n",
       "        -0.574369, -0.720946, -0.513877, -0.30027 , -1.282117, -0.469381,\n",
       "         0.592247,  0.739843,  0.050144, -0.900699,  0.486123, -0.77404 ,\n",
       "         0.569995, -0.30027 ,  0.292204,  0.004839,  0.589035, -0.301592,\n",
       "         0.610957, -0.880242,  0.278391, -0.707796, -0.815624, -0.415192,\n",
       "        -0.903811, -0.429911,  0.434785,  0.49197 , -0.839605,  0.82581 ,\n",
       "         0.050144, -0.885739,  0.184376,  0.411659, -0.358941,  0.261048,\n",
       "         0.114261,  0.449923, -0.76153 ,  1.019902, -1.036918,  1.179153,\n",
       "         0.505589,  0.737628, -0.393853,  0.330615, -0.603881,  0.017259,\n",
       "        -0.194491,  0.504113,  0.449923,  0.589035,  0.222877, -0.401492,\n",
       "        -0.501765,  0.083201,  0.355562,  0.480196, -0.836686,  0.761225,\n",
       "        -0.389043,  0.265841,  0.004839,  0.508384, -0.08821 ,  0.592247,\n",
       "        -1.135408,  0.563861, -1.273605, -0.787547, -0.236615, -0.6807  ,\n",
       "        -0.479481, -0.495887,  0.560975, -0.238775, -0.491616,  0.698408,\n",
       "        -0.353447,  1.179153, -0.389043,  0.658105, -0.808145, -0.194491,\n",
       "         0.793625,  1.283491, -0.462827, -0.77238 ,  0.610957, -0.284388,\n",
       "         0.434785, -0.17419 , -0.720946,  0.687443,  0.584808,  0.601957,\n",
       "         0.22596 , -0.603881, -0.550077, -0.386092,  0.655007,  0.91179 ,\n",
       "         0.283491,  0.768984,  0.646553,  1.55952 ,  0.91179 , -0.491616,\n",
       "        -0.439025,  0.468579, -0.777123, -0.565206,  0.23847 ,  0.715612,\n",
       "         1.163849, -0.236615,  0.707766, -0.724433,  0.615328,  0.434794,\n",
       "        -0.135408, -0.471073,  0.22596 ,  0.86914 ,  0.840301,  0.530619,\n",
       "         0.830741, -0.206375,  0.921724,  0.459584, -0.479481, -0.655502,\n",
       "         0.179153,  0.560975,  0.163314,  0.092186, -0.36347 ,  0.330615,\n",
       "        -0.59046 , -0.156061, -0.036946, -0.65052 , -0.08821 , -0.494411,\n",
       "        -0.260157,  0.198223,  0.643956,  0.49197 , -0.872036,  0.436018,\n",
       "        -0.724433,  0.344498,  0.735429,  0.275567, -0.412924,  0.655513,\n",
       "         0.805509, -0.429911, -0.77404 ,  1.283491, -0.36347 ,  0.23847 ,\n",
       "        -0.556748,  0.328973,  0.387811,  0.658105,  0.498235,  1.01479 ,\n",
       "         0.217477, -0.036918,  1.019902, -0.393853,  0.739843,  0.01479 ,\n",
       "        -0.738952, -0.312557, -0.006025,  1.024388,  0.598508, -0.094609,\n",
       "         1.092186,  0.278391,  0.615328, -0.260157, -0.398043,  0.119758,\n",
       "        -0.734159,  0.191855,  0.851392, -0.839605, -0.544631, -0.344993,\n",
       "        -0.644438, -0.655502,  0.163849,  0.3193  , -0.880242,  0.963054,\n",
       "         0.443252,  0.520519,  0.179153, -0.612189, -0.353447, -0.401492,\n",
       "        -0.6807  , -1.156061, -0.519804, -0.786235,  0.283491,  1.55952 ,\n",
       "        -0.872036, -0.407753,  0.127964, -0.094609, -0.531421, -0.036946,\n",
       "         0.387811,  0.024388,  0.459584,  0.613908, -0.77238 ,  0.761225,\n",
       "         0.504113,  0.096189,  0.076249, -0.50803 ,  0.096189,  0.328973,\n",
       "        -0.669385, -0.006025,  0.936656, -0.565997,  0.763385, -0.436139,\n",
       "        -0.462827, -0.815624, -0.312557, -0.190769, -0.471073, -0.721609,\n",
       "        -0.356044, -0.544631,  0.265841, -0.707796,  0.480196,  0.114261,\n",
       "        -0.391264, -0.13086 ,  0.793625,  0.805509,  0.851392, -0.271401,\n",
       "         0.163849, -0.612189, -0.273605,  0.809231, -0.604859,  0.735429,\n",
       "         0.608736, -0.410965,  0.127964, -0.341895, -0.669385, -0.556748,\n",
       "        -0.604859, -0.995161, -1.282117, -0.588341, -1.135408,  1.117627,\n",
       "         0.698408,  0.198223,  0.86914 , -0.565206, -0.801777,  0.396119,\n",
       "        -0.344993,  0.22762 ,  0.395141, -0.519804, -0.501765, -0.808145,\n",
       "         0.537173, -0.430005]])"
      ]
     },
     "execution_count": 3,
     "metadata": {},
     "output_type": "execute_result"
    }
   ],
   "source": [
    "X = np.loadtxt(\"cluster.dat\")\n",
    "X"
   ]
  },
  {
   "cell_type": "code",
   "execution_count": 4,
   "metadata": {},
   "outputs": [],
   "source": [
    "import numpy as np\n",
    "\n",
    "Ms = np.arange(2, 9)"
   ]
  },
  {
   "cell_type": "markdown",
   "metadata": {},
   "source": [
    "### Initialization"
   ]
  },
  {
   "cell_type": "code",
   "execution_count": 5,
   "metadata": {},
   "outputs": [
    {
     "data": {
      "text/plain": [
       "array([[ 0.21700171,  0.50331006, -1.60930831,  1.09660103],\n",
       "       [-0.0839038 , -0.4058897 ,  0.27218146,  0.53439112]])"
      ]
     },
     "execution_count": 5,
     "metadata": {},
     "output_type": "execute_result"
    }
   ],
   "source": [
    "from lib.k_means import initialize_prototypes\n",
    "    \n",
    "initialize_prototypes(X, 4)"
   ]
  },
  {
   "cell_type": "code",
   "execution_count": 6,
   "metadata": {},
   "outputs": [],
   "source": [
    "t_max = 5"
   ]
  },
  {
   "cell_type": "markdown",
   "metadata": {},
   "source": [
    "### Optimization"
   ]
  },
  {
   "cell_type": "code",
   "execution_count": 7,
   "metadata": {},
   "outputs": [
    {
     "data": {
      "text/plain": [
       "array([[0., 0., 0., ..., 0., 0., 0.],\n",
       "       [0., 0., 0., ..., 0., 0., 0.],\n",
       "       [0., 0., 0., ..., 0., 0., 0.]])"
      ]
     },
     "execution_count": 7,
     "metadata": {},
     "output_type": "execute_result"
    }
   ],
   "source": [
    "def initialize_m(M, p):\n",
    "    m = np.zeros((M, p))\n",
    "    return m\n",
    "\n",
    "initialize_m(3, X.shape[1])"
   ]
  },
  {
   "cell_type": "code",
   "execution_count": 8,
   "metadata": {},
   "outputs": [],
   "source": [
    "from lib.k_means import dist"
   ]
  },
  {
   "cell_type": "code",
   "execution_count": 9,
   "metadata": {},
   "outputs": [],
   "source": [
    "def assign_points_to_prototypes(X, w):\n",
    "    M = w.shape[1]\n",
    "    p = X.shape[1]\n",
    "    m = initialize_m(M, p)\n",
    "    for i in np.arange(p):\n",
    "        x = X[:,i]\n",
    "        distances = [dist(w_q, x) for w_q in w.T]\n",
    "        min_w = np.argmin(distances)\n",
    "        m[min_w,i] = 1\n",
    "    return m"
   ]
  },
  {
   "cell_type": "code",
   "execution_count": 10,
   "metadata": {},
   "outputs": [],
   "source": [
    "def update_prototypes(X, m):\n",
    "    M, p = m.shape\n",
    "    \n",
    "    clusters = [[] for i in np.arange(M)]\n",
    "    for i in np.arange(p):\n",
    "        x = X[:,i]\n",
    "        w_assigned = np.where(m[:,i] == 1)[0][0]\n",
    "        clusters[w_assigned].append(x)\n",
    "    clusters = np.array(clusters)\n",
    "    \n",
    "    w = np.array([np.sum(c, axis=0) / len(c) for c in clusters]).T\n",
    "    \n",
    "    return w"
   ]
  },
  {
   "cell_type": "code",
   "execution_count": 11,
   "metadata": {},
   "outputs": [],
   "source": [
    "def E(X, m, w):\n",
    "    p = X.shape[1]\n",
    "    M = w.shape[1]\n",
    "    sum = 0\n",
    "    for q in np.arange(M):\n",
    "        for i in np.arange(p):\n",
    "            w_q = w[:,q]\n",
    "            x = X[:,i]\n",
    "            sum += m[q, i] * dist(w_q, x)**2\n",
    "    return sum / p"
   ]
  },
  {
   "cell_type": "code",
   "execution_count": 12,
   "metadata": {},
   "outputs": [],
   "source": [
    "import matplotlib.pyplot as plt\n",
    "import math\n",
    "\n",
    "def k_means_batch(X, M, t_max=t_max):\n",
    "    N, p = X.shape\n",
    "    w = initialize_prototypes(X=X, M=M)\n",
    "    w_history = []\n",
    "    e_history = []\n",
    "    for t in np.arange(t_max):\n",
    "        m = assign_points_to_prototypes(X, w)\n",
    "        w = update_prototypes(X, m)\n",
    "        w_history.append(w)\n",
    "        e_history.append(E(X, m, w))\n",
    "    return m, w_history, e_history"
   ]
  },
  {
   "cell_type": "markdown",
   "metadata": {},
   "source": [
    "### Visualization"
   ]
  },
  {
   "cell_type": "code",
   "execution_count": 13,
   "metadata": {},
   "outputs": [],
   "source": [
    "def visualize_k_means(X, w_history):\n",
    "    t_max = len(w_history)\n",
    "    nrows = math.ceil(t_max / 5)\n",
    "    fig, axes = plt.subplots(nrows=nrows, ncols=5, figsize=(15, 6)) \n",
    "    \n",
    "    for t in np.arange(t_max):\n",
    "        ax = axes.flat[t]\n",
    "        w = w_history[t]\n",
    "        ax.scatter(x=X[0], y=X[1])\n",
    "        ax.scatter(x=w[0], y=w[1])"
   ]
  },
  {
   "cell_type": "code",
   "execution_count": 14,
   "metadata": {},
   "outputs": [],
   "source": [
    "def visualize_cost_function(e_histories):\n",
    "    fig, ax = plt.subplots(figsize=(12, 6))\n",
    "    for e_history in e_histories:\n",
    "        x = np.arange(len(e_history))\n",
    "        ax.plot(x, e_history)"
   ]
  },
  {
   "cell_type": "code",
   "execution_count": 15,
   "metadata": {
    "scrolled": true
   },
   "outputs": [
    {
     "data": {
      "image/png": "[encoded data removed]",
      "text/plain": [
       "<Figure size 1080x432 with 10 Axes>"
      ]
     },
     "metadata": {
      "needs_background": "light"
     },
     "output_type": "display_data"
    },
    {
     "data": {
      "image/png": "[encoded data removed]",
      "text/plain": [
       "<Figure size 864x432 with 1 Axes>"
      ]
     },
     "metadata": {
      "needs_background": "light"
     },
     "output_type": "display_data"
    }
   ],
   "source": [
    "m, w_history, e_history = k_means_batch(X, 4, t_max=10)\n",
    "visualize_k_means(X, w_history)\n",
    "visualize_cost_function([e_history])"
   ]
  },
  {
   "cell_type": "code",
   "execution_count": 16,
   "metadata": {},
   "outputs": [
    {
     "data": {
      "image/png": "[encoded data removed]",
      "text/plain": [
       "<Figure size 432x288 with 1 Axes>"
      ]
     },
     "metadata": {
      "needs_background": "light"
     },
     "output_type": "display_data"
    }
   ],
   "source": [
    "from scipy.spatial import Voronoi, voronoi_plot_2d\n",
    "w = w_history[-1]\n",
    "vor = Voronoi(w.T)\n",
    "\n",
    "fig = voronoi_plot_2d(vor)"
   ]
  }
 ],
 "metadata": {
  "kernelspec": {
   "display_name": "Python 3",
   "language": "python",
   "name": "python3"
  },
  "language_info": {
   "codemirror_mode": {
    "name": "ipython",
    "version": 3
   },
   "file_extension": ".py",
   "mimetype": "text/x-python",
   "name": "python",
   "nbconvert_exporter": "python",
   "pygments_lexer": "ipython3",
   "version": "3.7.6"
  }
 },
 "nbformat": 4,
 "nbformat_minor": 4
}
