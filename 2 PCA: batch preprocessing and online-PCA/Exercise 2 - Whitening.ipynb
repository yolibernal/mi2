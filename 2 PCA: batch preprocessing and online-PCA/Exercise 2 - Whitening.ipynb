{
 "cells": [
  {
   "cell_type": "markdown",
   "metadata": {},
   "source": [
    "# Exercise 2 - Whitening"
   ]
  },
  {
   "cell_type": "code",
   "execution_count": 9,
   "metadata": {},
   "outputs": [
    {
     "data": {
      "text/html": [
       "<div>\n",
       "<style scoped>\n",
       "    .dataframe tbody tr th:only-of-type {\n",
       "        vertical-align: middle;\n",
       "    }\n",
       "\n",
       "    .dataframe tbody tr th {\n",
       "        vertical-align: top;\n",
       "    }\n",
       "\n",
       "    .dataframe thead th {\n",
       "        text-align: right;\n",
       "    }\n",
       "</style>\n",
       "<table border=\"1\" class=\"dataframe\">\n",
       "  <thead>\n",
       "    <tr style=\"text-align: right;\">\n",
       "      <th></th>\n",
       "      <th>X1</th>\n",
       "      <th>X2</th>\n",
       "      <th>X3</th>\n",
       "      <th>X4</th>\n",
       "    </tr>\n",
       "  </thead>\n",
       "  <tbody>\n",
       "    <tr>\n",
       "      <th>0</th>\n",
       "      <td>2.220150</td>\n",
       "      <td>0.001445</td>\n",
       "      <td>-0.029699</td>\n",
       "      <td>0.531402</td>\n",
       "    </tr>\n",
       "    <tr>\n",
       "      <th>1</th>\n",
       "      <td>-1.080816</td>\n",
       "      <td>-4.940798</td>\n",
       "      <td>-0.399039</td>\n",
       "      <td>0.856469</td>\n",
       "    </tr>\n",
       "    <tr>\n",
       "      <th>2</th>\n",
       "      <td>0.325880</td>\n",
       "      <td>1.386070</td>\n",
       "      <td>-0.077879</td>\n",
       "      <td>0.379079</td>\n",
       "    </tr>\n",
       "    <tr>\n",
       "      <th>3</th>\n",
       "      <td>0.455902</td>\n",
       "      <td>-1.510588</td>\n",
       "      <td>0.001842</td>\n",
       "      <td>0.323533</td>\n",
       "    </tr>\n",
       "    <tr>\n",
       "      <th>4</th>\n",
       "      <td>2.868266</td>\n",
       "      <td>3.784841</td>\n",
       "      <td>0.253395</td>\n",
       "      <td>-0.086477</td>\n",
       "    </tr>\n",
       "  </tbody>\n",
       "</table>\n",
       "</div>"
      ],
      "text/plain": [
       "         X1        X2        X3        X4\n",
       "0  2.220150  0.001445 -0.029699  0.531402\n",
       "1 -1.080816 -4.940798 -0.399039  0.856469\n",
       "2  0.325880  1.386070 -0.077879  0.379079\n",
       "3  0.455902 -1.510588  0.001842  0.323533\n",
       "4  2.868266  3.784841  0.253395 -0.086477"
      ]
     },
     "execution_count": 9,
     "metadata": {},
     "output_type": "execute_result"
    }
   ],
   "source": [
    "import pandas as pd\n",
    "\n",
    "df = pd.read_csv(\"pca4.csv\")\n",
    "df = df - df.mean()\n",
    "df.head()"
   ]
  },
  {
   "cell_type": "code",
   "execution_count": 10,
   "metadata": {},
   "outputs": [
    {
     "data": {
      "text/html": [
       "<div>\n",
       "<style scoped>\n",
       "    .dataframe tbody tr th:only-of-type {\n",
       "        vertical-align: middle;\n",
       "    }\n",
       "\n",
       "    .dataframe tbody tr th {\n",
       "        vertical-align: top;\n",
       "    }\n",
       "\n",
       "    .dataframe thead th {\n",
       "        text-align: right;\n",
       "    }\n",
       "</style>\n",
       "<table border=\"1\" class=\"dataframe\">\n",
       "  <thead>\n",
       "    <tr style=\"text-align: right;\">\n",
       "      <th></th>\n",
       "      <th>X1</th>\n",
       "      <th>X2</th>\n",
       "      <th>X3</th>\n",
       "      <th>X4</th>\n",
       "    </tr>\n",
       "  </thead>\n",
       "  <tbody>\n",
       "    <tr>\n",
       "      <th>count</th>\n",
       "      <td>5.000000e+02</td>\n",
       "      <td>5.000000e+02</td>\n",
       "      <td>5.000000e+02</td>\n",
       "      <td>5.000000e+02</td>\n",
       "    </tr>\n",
       "    <tr>\n",
       "      <th>mean</th>\n",
       "      <td>-8.526513e-17</td>\n",
       "      <td>-9.947598e-17</td>\n",
       "      <td>1.065814e-17</td>\n",
       "      <td>-1.065814e-17</td>\n",
       "    </tr>\n",
       "    <tr>\n",
       "      <th>std</th>\n",
       "      <td>1.705942e+00</td>\n",
       "      <td>1.774020e+00</td>\n",
       "      <td>8.176849e-01</td>\n",
       "      <td>8.230961e-01</td>\n",
       "    </tr>\n",
       "    <tr>\n",
       "      <th>min</th>\n",
       "      <td>-5.832747e+00</td>\n",
       "      <td>-5.237948e+00</td>\n",
       "      <td>-1.197964e+01</td>\n",
       "      <td>-1.198725e+01</td>\n",
       "    </tr>\n",
       "    <tr>\n",
       "      <th>25%</th>\n",
       "      <td>-1.232995e+00</td>\n",
       "      <td>-1.097631e+00</td>\n",
       "      <td>-2.020266e-01</td>\n",
       "      <td>-2.097426e-01</td>\n",
       "    </tr>\n",
       "    <tr>\n",
       "      <th>50%</th>\n",
       "      <td>-5.812232e-03</td>\n",
       "      <td>-1.079210e-01</td>\n",
       "      <td>9.313042e-03</td>\n",
       "      <td>-2.251317e-02</td>\n",
       "    </tr>\n",
       "    <tr>\n",
       "      <th>75%</th>\n",
       "      <td>1.078714e+00</td>\n",
       "      <td>1.253088e+00</td>\n",
       "      <td>2.145907e-01</td>\n",
       "      <td>2.137377e-01</td>\n",
       "    </tr>\n",
       "    <tr>\n",
       "      <th>max</th>\n",
       "      <td>4.712177e+00</td>\n",
       "      <td>4.916961e+00</td>\n",
       "      <td>1.202036e+01</td>\n",
       "      <td>1.201275e+01</td>\n",
       "    </tr>\n",
       "  </tbody>\n",
       "</table>\n",
       "</div>"
      ],
      "text/plain": [
       "                 X1            X2            X3            X4\n",
       "count  5.000000e+02  5.000000e+02  5.000000e+02  5.000000e+02\n",
       "mean  -8.526513e-17 -9.947598e-17  1.065814e-17 -1.065814e-17\n",
       "std    1.705942e+00  1.774020e+00  8.176849e-01  8.230961e-01\n",
       "min   -5.832747e+00 -5.237948e+00 -1.197964e+01 -1.198725e+01\n",
       "25%   -1.232995e+00 -1.097631e+00 -2.020266e-01 -2.097426e-01\n",
       "50%   -5.812232e-03 -1.079210e-01  9.313042e-03 -2.251317e-02\n",
       "75%    1.078714e+00  1.253088e+00  2.145907e-01  2.137377e-01\n",
       "max    4.712177e+00  4.916961e+00  1.202036e+01  1.201275e+01"
      ]
     },
     "execution_count": 10,
     "metadata": {},
     "output_type": "execute_result"
    }
   ],
   "source": [
    "df.describe()"
   ]
  },
  {
   "cell_type": "code",
   "execution_count": 139,
   "metadata": {},
   "outputs": [],
   "source": [
    "import numpy as np\n",
    "\n",
    "X = df.T.to_numpy()\n",
    "C = np.cov(X)"
   ]
  },
  {
   "cell_type": "code",
   "execution_count": 140,
   "metadata": {},
   "outputs": [
    {
     "name": "stdout",
     "output_type": "stream",
     "text": [
      "Eigenvalues: [4.13329173 1.92436473 0.67762223 0.66820255]\n",
      "Eigenvectors: [[-0.66808317 -0.7440606   0.00612014  0.00111974]\n",
      " [-0.74406218  0.66802535 -0.00553581 -0.00910804]\n",
      " [ 0.00594509 -0.0054947   0.16150367 -0.98683891]\n",
      " [ 0.00100359 -0.00926113 -0.98683761 -0.16144585]]\n"
     ]
    }
   ],
   "source": [
    "from numpy.linalg import eig\n",
    "e, M = eig(C)\n",
    "sort_perm = e.argsort()[::-1]\n",
    "e = e[sort_perm]\n",
    "M = M[:,sort_perm]\n",
    "print(\"Eigenvalues:\", e)\n",
    "print(\"Eigenvectors:\", M)"
   ]
  },
  {
   "cell_type": "markdown",
   "metadata": {},
   "source": [
    "## Outlier detection"
   ]
  },
  {
   "cell_type": "markdown",
   "metadata": {},
   "source": [
    "### Using last two PCs"
   ]
  },
  {
   "cell_type": "code",
   "execution_count": 141,
   "metadata": {},
   "outputs": [
    {
     "data": {
      "text/plain": [
       "(2, 500)"
      ]
     },
     "execution_count": 141,
     "metadata": {},
     "output_type": "execute_result"
    }
   ],
   "source": [
    "U = M[:,2:].T @ X\n",
    "U.shape"
   ]
  },
  {
   "cell_type": "code",
   "execution_count": 142,
   "metadata": {},
   "outputs": [
    {
     "data": {
      "text/plain": [
       "[<matplotlib.lines.Line2D at 0x7f969cc3f8e0>]"
      ]
     },
     "execution_count": 142,
     "metadata": {},
     "output_type": "execute_result"
    },
    {
     "data": {
      "image/png": "[encoded data removed]",
      "text/plain": [
       "<Figure size 432x288 with 1 Axes>"
      ]
     },
     "metadata": {
      "needs_background": "light"
     },
     "output_type": "display_data"
    }
   ],
   "source": [
    "import matplotlib.pyplot as plt\n",
    "\n",
    "fig, ax = plt.subplots()\n",
    "\n",
    "ax.plot(U[0], U[1], \".\")"
   ]
  },
  {
   "cell_type": "markdown",
   "metadata": {},
   "source": [
    "### Using last PC"
   ]
  },
  {
   "cell_type": "code",
   "execution_count": 143,
   "metadata": {},
   "outputs": [
    {
     "data": {
      "text/plain": [
       "(1, 500)"
      ]
     },
     "execution_count": 143,
     "metadata": {},
     "output_type": "execute_result"
    }
   ],
   "source": [
    "U = M[:,3:].T @ X\n",
    "U.shape"
   ]
  },
  {
   "cell_type": "code",
   "execution_count": 144,
   "metadata": {},
   "outputs": [
    {
     "data": {
      "text/plain": [
       "[<matplotlib.lines.Line2D at 0x7f969cc32610>]"
      ]
     },
     "execution_count": 144,
     "metadata": {},
     "output_type": "execute_result"
    },
    {
     "data": {
      "image/png": "[encoded data removed]",
      "text/plain": [
       "<Figure size 432x288 with 1 Axes>"
      ]
     },
     "metadata": {
      "needs_background": "light"
     },
     "output_type": "display_data"
    }
   ],
   "source": [
    "import matplotlib.pyplot as plt\n",
    "\n",
    "fig, ax = plt.subplots()\n",
    "\n",
    "ax.plot(U[0], np.zeros_like(U[0]), \".\")"
   ]
  },
  {
   "cell_type": "markdown",
   "metadata": {},
   "source": [
    "### Indices of outliers"
   ]
  },
  {
   "cell_type": "code",
   "execution_count": 33,
   "metadata": {},
   "outputs": [
    {
     "data": {
      "text/plain": [
       "[99, 111]"
      ]
     },
     "execution_count": 33,
     "metadata": {},
     "output_type": "execute_result"
    }
   ],
   "source": [
    "i_pca1_outl = [index for index, x in zip(np.arange(len(U[0])), U[0]) if x < -5 or x > 5]\n",
    "i_pca1_outl"
   ]
  },
  {
   "cell_type": "code",
   "execution_count": 35,
   "metadata": {},
   "outputs": [
    {
     "data": {
      "text/plain": [
       "[199, 211]"
      ]
     },
     "execution_count": 35,
     "metadata": {},
     "output_type": "execute_result"
    }
   ],
   "source": [
    "i_pca2_outl = [index for index, x in zip(np.arange(len(U[1])), U[1]) if x < -5 or x > 5]\n",
    "i_pca2_outl"
   ]
  },
  {
   "cell_type": "code",
   "execution_count": 38,
   "metadata": {},
   "outputs": [
    {
     "name": "stdout",
     "output_type": "stream",
     "text": [
      "[-5.81223172e-03 -1.07921002e-01  2.03597930e-02  1.20127503e+01]\n",
      "[-5.81223172e-03 -1.07921002e-01  2.03597930e-02 -1.19872497e+01]\n",
      "[-5.81223172e-03 -1.07921002e-01  1.20203598e+01  1.27503055e-02]\n",
      "[-5.81223172e-03 -1.07921002e-01 -1.19796402e+01  1.27503055e-02]\n"
     ]
    }
   ],
   "source": [
    "print(X[:,99])\n",
    "print(X[:,111])\n",
    "\n",
    "print(X[:,199])\n",
    "print(X[:,211])"
   ]
  },
  {
   "cell_type": "markdown",
   "metadata": {},
   "source": [
    "## Clean data"
   ]
  },
  {
   "cell_type": "code",
   "execution_count": 145,
   "metadata": {},
   "outputs": [],
   "source": [
    "Xc = np.delete(X, [99, 111, 199, 211], axis=1)"
   ]
  },
  {
   "cell_type": "code",
   "execution_count": 146,
   "metadata": {},
   "outputs": [
    {
     "name": "stdout",
     "output_type": "stream",
     "text": [
      "Eigenvalues: [4.16661605 1.93983139 0.10130627 0.09181741]\n",
      "Eigenvectors: [[-6.68104504e-01 -7.44055712e-01 -4.17917429e-03 -6.26106300e-05]\n",
      " [-7.44049527e-01  6.68077013e-01  3.80086963e-03  6.99713062e-03]\n",
      " [ 5.09285464e-03 -3.76143205e-03 -1.59278874e-01  9.87213328e-01]\n",
      " [ 8.58062441e-04 -6.32882723e-03  9.87217468e-01  1.59251001e-01]]\n"
     ]
    }
   ],
   "source": [
    "Cc = np.cov(Xc)\n",
    "ec, Mc = eig(Cc)\n",
    "sort_perm = ec.argsort()[::-1]\n",
    "ec = ec[sort_perm]\n",
    "Mc = Mc[:,sort_perm]\n",
    "print(\"Eigenvalues:\", ec)\n",
    "print(\"Eigenvectors:\", Mc)"
   ]
  },
  {
   "cell_type": "code",
   "execution_count": 49,
   "metadata": {},
   "outputs": [
    {
     "data": {
      "text/plain": [
       "[<matplotlib.lines.Line2D at 0x7f96cb392b20>]"
      ]
     },
     "execution_count": 49,
     "metadata": {},
     "output_type": "execute_result"
    },
    {
     "data": {
      "image/png": "[encoded data removed]",
      "text/plain": [
       "<Figure size 432x288 with 1 Axes>"
      ]
     },
     "metadata": {
      "needs_background": "light"
     },
     "output_type": "display_data"
    }
   ],
   "source": [
    "Uc = Mc[:,2:].T @ Xc\n",
    "fig, ax = plt.subplots()\n",
    "\n",
    "ax.plot(Uc[0], Uc[1], \".\")"
   ]
  },
  {
   "cell_type": "code",
   "execution_count": 52,
   "metadata": {},
   "outputs": [],
   "source": [
    "def pca_for_subset(X, subset_size):\n",
    "    C = np.cov(X[:,:subset_size])\n",
    "    e, M = eig(C)\n",
    "    sort_perm = e.argsort()[::-1]\n",
    "    e = e[sort_perm]\n",
    "    M = M[:,sort_perm]\n",
    "    return e, M"
   ]
  },
  {
   "cell_type": "code",
   "execution_count": 53,
   "metadata": {},
   "outputs": [
    {
     "data": {
      "text/plain": [
       "(array([3.64560049, 2.00907825, 0.10776192, 0.09518386]),\n",
       " array([[ 0.68475065,  0.72819958,  0.02371242, -0.01672286],\n",
       "        [ 0.7277    , -0.68480404, -0.01023928, -0.03729996],\n",
       "        [-0.03059766,  0.02283869, -0.44779295, -0.8933217 ],\n",
       "        [-0.02516031, -0.01572257,  0.89376415, -0.44755492]]))"
      ]
     },
     "execution_count": 53,
     "metadata": {},
     "output_type": "execute_result"
    }
   ],
   "source": [
    "pca_for_subset(Xc, 100)"
   ]
  },
  {
   "cell_type": "markdown",
   "metadata": {},
   "source": [
    "## PCA for subset with reasonable size"
   ]
  },
  {
   "cell_type": "code",
   "execution_count": 175,
   "metadata": {},
   "outputs": [
    {
     "data": {
      "text/plain": [
       "[<matplotlib.lines.Line2D at 0x7f969c2e4ac0>,\n",
       " <matplotlib.lines.Line2D at 0x7f969c2e6670>,\n",
       " <matplotlib.lines.Line2D at 0x7f969c2e6430>,\n",
       " <matplotlib.lines.Line2D at 0x7f969c2e6130>]"
      ]
     },
     "execution_count": 175,
     "metadata": {},
     "output_type": "execute_result"
    },
    {
     "data": {
      "image/png": "[encoded data removed]",
      "text/plain": [
       "<Figure size 432x288 with 1 Axes>"
      ]
     },
     "metadata": {
      "needs_background": "light"
     },
     "output_type": "display_data"
    }
   ],
   "source": [
    "fig, ax = plt.subplots()\n",
    "\n",
    "x = [2**i for i in np.arange(1, 9)] + [500]\n",
    "ys = [pca_for_subset(Xc, size)[0] for size in x]\n",
    "\n",
    "reasonable_size = 256\n",
    "ax.axvline(reasonable_size, color=\"black\")\n",
    "ax.plot(x, ys)"
   ]
  },
  {
   "cell_type": "code",
   "execution_count": 176,
   "metadata": {},
   "outputs": [
    {
     "data": {
      "text/plain": [
       "<BarContainer object of 4 artists>"
      ]
     },
     "execution_count": 176,
     "metadata": {},
     "output_type": "execute_result"
    },
    {
     "data": {
      "image/png": "[encoded data removed]",
      "text/plain": [
       "<Figure size 432x288 with 1 Axes>"
      ]
     },
     "metadata": {
      "needs_background": "light"
     },
     "output_type": "display_data"
    }
   ],
   "source": [
    "fig, ax = plt.subplots()\n",
    "\n",
    "e, M = pca_for_subset(Xc, reasonable_size)\n",
    "ax.bar(np.arange(len(e)), e)"
   ]
  },
  {
   "cell_type": "markdown",
   "metadata": {},
   "source": [
    "## Whiten data"
   ]
  },
  {
   "cell_type": "code",
   "execution_count": 177,
   "metadata": {},
   "outputs": [],
   "source": [
    "e, M = pca_for_subset(Xc, Xc.shape[1])"
   ]
  },
  {
   "cell_type": "markdown",
   "metadata": {},
   "source": [
    "Edit: is `e` the correct vector to use? Should't the variances along the PCAs be used?"
   ]
  },
  {
   "cell_type": "code",
   "execution_count": 178,
   "metadata": {},
   "outputs": [
    {
     "data": {
      "text/plain": [
       "array([[4.16661605, 0.        , 0.        , 0.        ],\n",
       "       [0.        , 1.93983139, 0.        , 0.        ],\n",
       "       [0.        , 0.        , 0.10130627, 0.        ],\n",
       "       [0.        , 0.        , 0.        , 0.09181741]])"
      ]
     },
     "execution_count": 178,
     "metadata": {},
     "output_type": "execute_result"
    }
   ],
   "source": [
    "Lambda = np.diag(e)\n",
    "Lambda"
   ]
  },
  {
   "cell_type": "code",
   "execution_count": 179,
   "metadata": {},
   "outputs": [
    {
     "data": {
      "text/plain": [
       "array([[2.04122905, 0.        , 0.        , 0.        ],\n",
       "       [0.        , 1.3927783 , 0.        , 0.        ],\n",
       "       [0.        , 0.        , 0.31828646, 0.        ],\n",
       "       [0.        , 0.        , 0.        , 0.30301388]])"
      ]
     },
     "execution_count": 179,
     "metadata": {},
     "output_type": "execute_result"
    }
   ],
   "source": [
    "np.sqrt(Lambda)"
   ]
  },
  {
   "cell_type": "code",
   "execution_count": 180,
   "metadata": {},
   "outputs": [
    {
     "data": {
      "text/plain": [
       "array([[-0.72704353,  2.15409406, -0.61193421, ...,  1.15223373,\n",
       "         1.13291949, -0.35297934],\n",
       "       [-1.18769874, -1.79537985,  0.48925368, ...,  0.35676327,\n",
       "         1.45924978,  0.20341509],\n",
       "       [ 1.63395818,  2.81135742,  1.22701998, ..., -1.73239501,\n",
       "        -0.32004665,  1.12804541],\n",
       "       [ 0.18209655, -0.96380602, -0.02256096, ..., -0.10898519,\n",
       "         0.35350726,  0.20029901]])"
      ]
     },
     "execution_count": 180,
     "metadata": {},
     "output_type": "execute_result"
    }
   ],
   "source": [
    "from numpy.linalg import inv\n",
    "\n",
    "V = inv(np.sqrt(Lambda)) @ M.T @ Xc\n",
    "V"
   ]
  },
  {
   "cell_type": "code",
   "execution_count": 181,
   "metadata": {},
   "outputs": [],
   "source": [
    "def draw_heatmap(matrix, ax):\n",
    "    im = ax.imshow(matrix)\n",
    "    size = matrix.shape[0]\n",
    "    for i in np.arange(size):\n",
    "        for j in np.arange(size):\n",
    "            text = ax.text(j, i, \"%.2f\" % matrix[i, j],\n",
    "                           ha=\"center\", va=\"center\", color=\"w\")\n",
    "            \n",
    "def draw_heatmap_row(matrices):\n",
    "    fig, axs = plt.subplots(ncols=len(matrices), figsize=(15, 15))\n",
    "    for i in np.arange(len(matrices)):\n",
    "        draw_heatmap(matrices[i], axs[i])"
   ]
  },
  {
   "cell_type": "code",
   "execution_count": 182,
   "metadata": {},
   "outputs": [
    {
     "data": {
      "image/png": "[encoded data removed]",
      "text/plain": [
       "<Figure size 432x288 with 1 Axes>"
      ]
     },
     "metadata": {
      "needs_background": "light"
     },
     "output_type": "display_data"
    }
   ],
   "source": [
    "fig, ax = plt.subplots()\n",
    "draw_heatmap(np.cov(Xc), ax)"
   ]
  },
  {
   "cell_type": "code",
   "execution_count": 183,
   "metadata": {},
   "outputs": [
    {
     "data": {
      "image/png": "[encoded data removed]",
      "text/plain": [
       "<Figure size 1080x1080 with 3 Axes>"
      ]
     },
     "metadata": {
      "needs_background": "light"
     },
     "output_type": "display_data"
    }
   ],
   "source": [
    "fig, axs = plt.subplots(ncols=3, figsize=(15, 15))\n",
    "        \n",
    "for num_pcs in [2, 3, 4]:\n",
    "    U_e = M[:,:num_pcs].T @ Xc\n",
    "    C_Ue = np.cov(U_e)\n",
    "    draw_heatmap(C_Ue, axs[num_pcs - 2])"
   ]
  },
  {
   "cell_type": "code",
   "execution_count": 184,
   "metadata": {},
   "outputs": [
    {
     "data": {
      "image/png": "[encoded data removed]",
      "text/plain": [
       "<Figure size 432x288 with 1 Axes>"
      ]
     },
     "metadata": {
      "needs_background": "light"
     },
     "output_type": "display_data"
    }
   ],
   "source": [
    "fig, ax = plt.subplots()\n",
    "\n",
    "draw_heatmap(np.cov(V), ax)"
   ]
  }
 ],
 "metadata": {
  "kernelspec": {
   "display_name": "Python 3",
   "language": "python",
   "name": "python3"
  },
  "language_info": {
   "codemirror_mode": {
    "name": "ipython",
    "version": 3
   },
   "file_extension": ".py",
   "mimetype": "text/x-python",
   "name": "python",
   "nbconvert_exporter": "python",
   "pygments_lexer": "ipython3",
   "version": "3.7.6"
  }
 },
 "nbformat": 4,
 "nbformat_minor": 4
}
